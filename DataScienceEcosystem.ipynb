{
 "cells": [
  {
   "cell_type": "markdown",
   "id": "adc4b14b",
   "metadata": {},
   "source": [
    "# Data Science Tools and Ecosystem"
   ]
  },
  {
   "cell_type": "markdown",
   "id": "7f970842",
   "metadata": {},
   "source": [
    "In this notebook, Data Science Tools and Ecosystem are summarized."
   ]
  },
  {
   "cell_type": "markdown",
   "id": "b6d3951c",
   "metadata": {},
   "source": [
    "Some of the popular languages that Data Scientists use are:\n",
    "1.  R \n",
    "2.  Python\n",
    "3.  SQL"
   ]
  },
  {
   "cell_type": "markdown",
   "id": "a38a4c1c",
   "metadata": {},
   "source": [
    "Some of the commonly used libraries used by Data Scientists include:\n",
    "1.  Pandas\n",
    "2.  NumPy\n",
    "3.  Matplotlib\n",
    "4.  Seaborn"
   ]
  },
  {
   "cell_type": "markdown",
   "id": "bf878714",
   "metadata": {},
   "source": [
    "| Data Science Tools  |\n",
    "| -------------  |\n",
    "|  Tableau |\n",
    "|  PowerBI |\n",
    "|  RStudio |\n",
    "|  Jupyter Notebooks|"
   ]
  },
  {
   "cell_type": "markdown",
   "id": "aee760c0",
   "metadata": {},
   "source": [
    "### Below are a few examples of evaluating arithmetic expressions in Python:\n",
    "\n",
    "y = 1 + 1\n",
    "\n",
    "x = 4 - 3\n",
    "\n",
    "w = 4 / 2\n",
    "\n",
    "z = 6 * 6\n",
    "\n"
   ]
  },
  {
   "cell_type": "markdown",
   "id": "b4b4433a",
   "metadata": {},
   "source": [
    "### This a simple arithmetic expression to mutiply then add integers:"
   ]
  },
  {
   "cell_type": "code",
   "execution_count": 22,
   "id": "6570d2bd",
   "metadata": {},
   "outputs": [
    {
     "data": {
      "text/plain": [
       "17"
      ]
     },
     "execution_count": 22,
     "metadata": {},
     "output_type": "execute_result"
    }
   ],
   "source": [
    "(3*4)+5"
   ]
  },
  {
   "cell_type": "markdown",
   "id": "17516bf5",
   "metadata": {},
   "source": [
    "### This will convert 200 minutes to hours by diving by 60:"
   ]
  },
  {
   "cell_type": "code",
   "execution_count": 23,
   "id": "67a39635",
   "metadata": {},
   "outputs": [
    {
     "name": "stdout",
     "output_type": "stream",
     "text": [
      "3.3333333333333335 Hours\n"
     ]
    }
   ],
   "source": [
    "minutes = 200\n",
    "hours = 0\n",
    "\n",
    "hours = 200 / 60\n",
    "\n",
    "print(hours, 'Hours')"
   ]
  },
  {
   "cell_type": "markdown",
   "id": "92650b9e",
   "metadata": {},
   "source": [
    "### Objectives:"
   ]
  },
  {
   "cell_type": "markdown",
   "id": "0e271223",
   "metadata": {},
   "source": [
    "List popular languages for Data Science\n",
    "\n",
    "- Python\n",
    "- R\n",
    "- SQL\n",
    "- Scala\n",
    "- Java\n",
    "- C++\n",
    "- Julia"
   ]
  },
  {
   "cell_type": "markdown",
   "id": "688c1e34",
   "metadata": {},
   "source": [
    "## Author\n",
    "\n",
    "William Sousa"
   ]
  },
  {
   "cell_type": "code",
   "execution_count": null,
   "id": "2014fd00",
   "metadata": {},
   "outputs": [],
   "source": []
  }
 ],
 "metadata": {
  "kernelspec": {
   "display_name": "Python 3 (ipykernel)",
   "language": "python",
   "name": "python3"
  },
  "language_info": {
   "codemirror_mode": {
    "name": "ipython",
    "version": 3
   },
   "file_extension": ".py",
   "mimetype": "text/x-python",
   "name": "python",
   "nbconvert_exporter": "python",
   "pygments_lexer": "ipython3",
   "version": "3.11.7"
  }
 },
 "nbformat": 4,
 "nbformat_minor": 5
}
